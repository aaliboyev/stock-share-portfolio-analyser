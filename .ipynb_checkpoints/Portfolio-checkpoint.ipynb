{
 "cells": [
  {
   "cell_type": "markdown",
   "metadata": {},
   "source": [
    "## Stock share portfolio analyser 1.0.1"
   ]
  },
  {
   "cell_type": "markdown",
   "metadata": {},
   "source": [
    "This script helps me to analyse my stock share portfolio. I always needed to automate this process. Before I used to download all data from the stock markets website. And build the calculator every time when I update my portfolio (buy or sell any stock). But today I don't need the whole process anymore. just download the data and upload it here. Script automaticly does all the calculation, loads actual prices for all shares and returns a result."
   ]
  },
  {
   "cell_type": "markdown",
   "metadata": {},
   "source": [
    "One more thing I wanted to do is to build program that will not jost analyse my portfolio, but itself get all the data of stock prices, analyse and give a prediction of future prices. Yes it will require a lot more time, knowledge, experience and strategies (machine learning, deep learning and other technologies). But I think this will be the first version of that programm."
   ]
  },
  {
   "cell_type": "markdown",
   "metadata": {},
   "source": [
    "#### import necessary python modules"
   ]
  },
  {
   "cell_type": "code",
   "execution_count": 5,
   "metadata": {},
   "outputs": [],
   "source": [
    "import collections\n",
    "import requests\n",
    "from bs4 import BeautifulSoup as BS\n",
    "import re\n",
    "\n",
    "# load the portfolio\n",
    "data = open('portfolio.20-09-20.csv')\n",
    "\n",
    "def preprocess_data(data):\n",
    "    floatptn = re.compile('\\d*,?\\d+\\.\\d+') # pattern to match float numbers like '23,1123.00'\n",
    "    intptn = re.compile('^\\d+,?\\d+$') # pattern to match integers like '132,123,000'\n",
    "    keys = []\n",
    "    i = 0\n",
    "    lines = []\n",
    "    for line in data: # loop through the lines of data. one line contains data of one trade\n",
    "        line = line.split(';')  # split columns\n",
    "        if i > 0: # if line does not contain column names\n",
    "            el = {}\n",
    "            for c in range(len(line)): # loop through columns and match integer and float patterns\n",
    "                if intptn.search(line[c]) != None:\n",
    "                    val = int(line[c].replace(',', ''))\n",
    "                elif floatptn.search(line[c]) != None:\n",
    "                    val = float(line[c].replace(',', ''))\n",
    "                else:\n",
    "                    val = line[c]\n",
    "                el[keys[c]] = val\n",
    "            lines.append(el)\n",
    "        else:\n",
    "            keys = line # include column names here\n",
    "            i+=1\n",
    "    return lines # return preprocessed list of trades\n",
    "\n",
    "# get acutal prices for single share\n",
    "def get_prices(share): \n",
    "    share_url = 'https://uzse.uz/isu_infos/STK?isu_cd='\n",
    "    compiler = re.compile('\\d+\\s?,?\\d*')\n",
    "    print('Getting prices for', share['company'], end=' => ')\n",
    "    r = requests.get(share_url+share['code'])\n",
    "    cnt = BS(r.content, 'html.parser')\n",
    "    prices = []\n",
    "    for el in cnt.select('.conclusion-table .text-right'):\n",
    "        price = el.select('.trd-price.price-up')\n",
    "        if compiler.search(el.text) != None:\n",
    "            index = compiler.search(el.text).span()\n",
    "            price = float(el.text[index[0]:index[1]].replace(',', '.').replace(' ', ''))\n",
    "            prices.append(price)\n",
    "        else:\n",
    "            prices.append(0)\n",
    "    print(prices)\n",
    "    return {'nominal': prices[0], 'base': prices[1], 'current': prices[2]}\n",
    "\n",
    "# convert preprocessed data into actives list adding accumulating shares \n",
    "# if their company (Issue Code) is the same\n",
    "def process_data(sort):\n",
    "    actives = {}\n",
    "    for trade in sort:\n",
    "        active = {'Company': '', 'Quantity': 0, 'Total profit': 0, 'Total spent': 0, 'Base price': 0, 'Current price': 0, 'Price change': 0, 'Profit change': 0, 'Fee': 0, 'Trades': 0}\n",
    "        if trade['Issue Code'] in actives:\n",
    "            active = actives[trade['Issue Code']]\n",
    "        active['Company'] = trade['Issue Name']\n",
    "        active['Trades'] += 1\n",
    "        active['Quantity'] += trade['Executed Quantity']\n",
    "        active['Base price'] += trade['Execution Price']\n",
    "        active['Total spent'] += trade['Trading Amount']\n",
    "        active['Fee'] += trade['Fee']\n",
    "        actives[trade['Issue Code']] = active\n",
    "\n",
    "    for i in actives:\n",
    "        share = actives[i]\n",
    "        current = get_prices({'code': i, 'company': share['Company']})\n",
    "        price = current['current']\n",
    "        share['Current price'] = price\n",
    "        share['Base price'] = share['Base price'] / share['Trades']\n",
    "        share['Price change'] = price - share['Base price']\n",
    "        share['Total profit'] = price * share['Quantity']\n",
    "        share['Profit change'] = share['Total profit'] - share['Total spent']\n",
    "    return actives\n",
    "\n",
    "# print human readable rows\n",
    "def e(str1, str2='', length=40):\n",
    "    print(str1.ljust(length, ' '), str2)\n",
    "\n",
    "# print human readable numbers like 123 000 000.00\n",
    "def n(num, pad=20, dec=2, thousands=' ', decimal='.'):\n",
    "    return (\"{0:\"+str(pad)+\",.\"+str(dec)+\"f}\").format(num).replace(',', thousands).replace('.', decimal)"
   ]
  },
  {
   "cell_type": "markdown",
   "metadata": {},
   "source": [
    "## Calculate the overall data"
   ]
  },
  {
   "cell_type": "code",
   "execution_count": 6,
   "metadata": {},
   "outputs": [
    {
     "name": "stdout",
     "output_type": "stream",
     "text": [
      "Getting prices for O'zsanoatqurilishbank ATB => [19.0, 17.0, 17.0]\n",
      "Getting prices for KAFOLAT Insurance Company JSC => [1.0, 0, 3.2]\n",
      "Getting prices for Kvarts AJ => [1715.0, 3010.0, 3010.0]\n",
      "Getting prices for Qizilqumsement AJ => [1570.0, 1860.0, 1860.0]\n",
      "Getting prices for Hamkorbank ATB => [5.0, 25.5, 25.5]\n",
      "Getting prices for Chilonzor buyum savdo kompleksi AJ => [10.0, 10.0, 10.0]\n",
      "Getting prices for Agrobank ATB => [1168.0, 800.0, 800.0]\n",
      "Getting prices for IPOTEKA-BANK ATIB => [1.0, 2.24, 2.24]\n",
      "Getting prices for Hamkorbank ATB => [5.0, 74.99, 74.99]\n",
      "Getting prices for IPOTEKA-BANK ATIB => [1.0, 0.9, 0.9]\n",
      "Getting prices for Kapital sug'urta AJ => [1.0, 1.42, 1.42]\n"
     ]
    }
   ],
   "source": [
    "sort = preprocess_data(data)\n",
    "actives = process_data(sort)\n",
    "currentIndex = 0\n",
    "baseIndex = 0\n",
    "totalProfit = 0\n",
    "nsa = 0\n",
    "ta = 0\n",
    "fee = 0\n",
    "eq = 0\n",
    "ep = 0\n",
    "trades = len(sort)\n",
    "c = collections.Counter()\n",
    "for item in sort:\n",
    "    nsa += item['Net Settlement Amount']\n",
    "    ta += item['Trading Amount']\n",
    "    fee += item['Fee']\n",
    "    eq += item['Executed Quantity']\n",
    "    ep += item['Execution Price']\n",
    "\n",
    "for code, active in actives.items():\n",
    "    currentIndex += active['Current price']\n",
    "    baseIndex += active['Base price']\n",
    "    totalProfit += active['Total profit']"
   ]
  },
  {
   "cell_type": "markdown",
   "metadata": {},
   "source": [
    "## Print"
   ]
  },
  {
   "cell_type": "code",
   "execution_count": 7,
   "metadata": {},
   "outputs": [
    {
     "name": "stdout",
     "output_type": "stream",
     "text": [
      "Umumiy harajatlar                               12 965 878.10\n",
      "Savdo harajatlari                               12 837 503.05\n",
      "To'lovlar                                          128 375.05\n",
      "Aktivlar qiymati                                12 660 520.00\n",
      "Aksiyalar soni                                   1 423 630.00\n",
      "Xarid narxlari indeksi                                 545.32\n",
      "Joriy narxlar indeksi                                  527.75\n",
      "-----------------------------\n",
      "Kvarts AJ                                           -3 589.00        2 983 489.00\n",
      "Chilonzor buyum savdo kompleksi AJ                  14 665.10        2 885 334.90\n",
      "Qizilqumsement AJ                                 -220 000.00        1 894 000.00\n",
      "O'zsanoatqurilishbank ATB                           -3 890.00        1 533 890.00\n",
      "IPOTEKA-BANK ATIB                                   10 000.00        1 222 000.00\n",
      "Hamkorbank ATB                                      49 840.00        1 150 000.00\n",
      "Hamkorbank ATB                                     -13 218.00          395 718.00\n",
      "IPOTEKA-BANK ATIB                                   -9 299.87          324 299.87\n",
      "Agrobank ATB                                        -5 388.00          277 388.00\n",
      "Kapital sug'urta AJ                                  1 576.72          140 423.28\n",
      "KAFOLAT Insurance Company JSC                        2 320.00           30 960.00\n",
      "-----------------------------\n",
      "Daromad                                           -176 983.05\n"
     ]
    }
   ],
   "source": [
    "def print_data():\n",
    "    sorted_actives = sorted(actives, key=lambda x: actives[x]['Total spent'], reverse=True)\n",
    "    e('Umumiy harajatlar', n(nsa))\n",
    "    e('Savdo harajatlari', n(ta))\n",
    "    e('To\\'lovlar', n(fee))\n",
    "    e('Aktivlar qiymati', n(totalProfit))\n",
    "    e('Aksiyalar soni', n(eq))\n",
    "    e('Xarid narxlari indeksi', n(baseIndex / len(actives)))\n",
    "    e('Joriy narxlar indeksi', n(currentIndex / len(actives)))\n",
    "    print('-----------------------------')\n",
    "    for i in sorted_actives:\n",
    "        e(actives[i]['Company'], n(actives[i]['Profit change']) + n(actives[i]['Total spent']))\n",
    "    print('-----------------------------')\n",
    "    e( 'Daromad', n(totalProfit - ta))\n",
    "    \n",
    "print_data()"
   ]
  }
 ],
 "metadata": {
  "kernelspec": {
   "display_name": "Python 3",
   "language": "python",
   "name": "python3"
  },
  "language_info": {
   "codemirror_mode": {
    "name": "ipython",
    "version": 3
   },
   "file_extension": ".py",
   "mimetype": "text/x-python",
   "name": "python",
   "nbconvert_exporter": "python",
   "pygments_lexer": "ipython3",
   "version": "3.8.3"
  }
 },
 "nbformat": 4,
 "nbformat_minor": 4
}
